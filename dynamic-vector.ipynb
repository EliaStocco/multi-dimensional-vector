{
 "cells": [
  {
   "cell_type": "code",
   "execution_count": 1,
   "metadata": {},
   "outputs": [],
   "source": [
    ".include header"
   ]
  },
  {
   "cell_type": "code",
   "execution_count": null,
   "metadata": {},
   "outputs": [],
   "source": [
    "//%%file header/dynamic_vector.h\n",
    "#pragma once \n",
    "\n",
    "#include <vector>\n",
    "#include <array>\n",
    "//#include <initializer_list>\n",
    "\n",
    "namespace eliastocco { // you can change namespace    \n",
    "       \n",
    "    namespace container {\n",
    "    \n",
    "        namespace dynamic {\n",
    "        \n",
    "            typedef /*long unsigned*/ int t_dim;\n",
    "            typedef /*long*/ long unsigned int ut_dim;\n",
    "        \n",
    "            constexpr ut_dim decrease ( ut_dim a ) { return (a > 1 ) ? ( a - 1 ) : 0 ; }\n",
    "        \n",
    "            // do not change the order of these classes\n",
    "\n",
    "            // do not use this class !!         \n",
    "            template < class type , template <class...> class STL_container >\n",
    "                class my_dynamic_vector : public STL_container < type > {\n",
    "\n",
    "                    public :\n",
    "                        my_dynamic_vector ( std :: array < t_dim , 1 > Lenght = { 0 } ) \n",
    "                            : STL_container < type > ( Lenght [ 0 ] ) {};\n",
    "\n",
    "                };\n",
    "\n",
    "            //eredito un \"array\" di dimensione Dimension -1 \n",
    "            template < ut_dim Dimension , class type , \n",
    "                template <class...> class STL_container = std :: vector > \n",
    "                    class dynamic_vector \n",
    "                        : public my_dynamic_vector \n",
    "                            < dynamic_vector < decrease(Dimension) , type , STL_container > , STL_container > {\n",
    "                        \n",
    "                        #define thisclass dynamic_vector<Dimension,type,STL_container>\n",
    "                        \n",
    "                        #define motherclass my_dynamic_vector<dynamic_vector<decrease(Dimension),\\\n",
    "                        type,STL_container>,STL_container>\n",
    "                        \n",
    "                        #define childclass dynamic_vector < decrease(Dimension) , type , STL_container >\n",
    "                        \n",
    "                        static_assert ( Dimension > 0 , \"Dimension should be > 0\" ) ;\n",
    "                        \n",
    "                        public :\n",
    "                            typedef std :: array < t_dim , Dimension > Index_t;\n",
    "                        \n",
    "                        \n",
    "                        public :\n",
    "                            dynamic_vector ( Index_t Lenght = { 0 } ) {\n",
    "\n",
    "                                std :: array < t_dim , decrease(Dimension) > Other = { 0 } ;\n",
    "\n",
    "                                for ( auto i = 0 ; i != Other . size () ; i ++ ) {\n",
    "                                    Other [ i ] = Lenght [ i + 1 ] ;\n",
    "                                }\n",
    "\n",
    "                                my_dynamic_vector < \n",
    "                                    dynamic_vector < decrease(Dimension) , type , STL_container > ,\n",
    "                                        STL_container > ::\n",
    "                                resize ( Lenght [ 0 ], dynamic_vector < \n",
    "                                                decrease(Dimension) , type , STL_container > ( Other ) ) ;\n",
    "\n",
    "                            };\n",
    "                            \n",
    "                //*************************************************************** \n",
    "                \n",
    "                      /*  public : \n",
    "                            bool set ( const std :: array<t_dim,Dimension> index , const type value ){\n",
    "                                (*this)[index]=value;\n",
    "                                return true;\n",
    "                            }*/\n",
    "                \n",
    "                         public :\n",
    "                            childclass & operator[](const t_dim index ){\n",
    "                                //std :: cout << \"childclass & operator[](const t_dim index ) \" << index << std :: endl;\n",
    "                                //return motherclass::operator[](index);\n",
    "                                return motherclass::at(index);\n",
    "                            }\n",
    "                        public :\n",
    "                            childclass operator[](const t_dim index ) const {\n",
    "                                //std :: cout << \"childclass operator[](const t_dim index ) const\" << index << std :: endl;\n",
    "                                //return motherclass::operator[](index);\n",
    "                                return motherclass::at(index);\n",
    "                            }\n",
    "                        \n",
    "                //***************************************************************                \n",
    "                \n",
    "                        public :\n",
    "                            template < ut_dim Dim >\n",
    "                            auto & operator[](const std :: array<t_dim,Dim> index ) {\n",
    "                                //std :: cout << \"auto & operator[](const std :: array<t_dim,Dim> index ) Dim=\" << Dim \n",
    "                                //<< std :: endl;\n",
    "                                if constexpr (Dim>1){\n",
    "                                    \n",
    "                                    std :: array < t_dim , decrease(Dim) > new_index = { 0 } ;\n",
    "                                    for ( auto i = 0 ; i < Dim-1 ; i ++ ) {\n",
    "                                        new_index [ i ] = index [ i + 1 ] ;\n",
    "                                    }\n",
    "                                    \n",
    "                                    //std :: cout << \"ciao \" << index[0] << std :: endl;\n",
    "                                    //std :: cout << \"ciao \" << index[1] << std :: endl;\n",
    "                                    //std :: cout << \"ciao \" << index . size () << std :: endl;\n",
    "                                    //std :: cout << \"ciao \" << new_index[0] << std :: endl;\n",
    "                                    \n",
    "                                    //auto a = motherclass::operator[](index[0]);\n",
    "\n",
    "                                    //return motherclass::operator[](index[0])[new_index];\n",
    "                                    return (motherclass::at(index[0]))[new_index];\n",
    "                                \n",
    "                                }else {\n",
    "                                    //std :: cout << \"ciao2\" << index[0] << std :: endl;\n",
    "                                    return motherclass::at(index[0]);\n",
    "                                }\n",
    "                                \n",
    "                            }\n",
    "                            \n",
    "                         public :\n",
    "                            template < ut_dim Dim >\n",
    "                            auto operator[](const std :: array<t_dim,Dim> index ) const {\n",
    "                                //std :: cout << \"auto operator[](const std :: array<t_dim,Dim> index ) const, Dim=\" \n",
    "                                //<< Dim << std :: endl;\n",
    "                                if constexpr (Dim>1){\n",
    "                                    \n",
    "                                    std :: array < t_dim , decrease(Dim) > new_index = { 0 } ;\n",
    "                                    for ( auto i = 0 ; i < Dim-1 ; i ++ ) {\n",
    "                                        new_index [ i ] = index [ i + 1 ] ;\n",
    "                                    }\n",
    "\n",
    "                                    //std :: cout << \"ciao\" << index[0] << std :: endl;\n",
    "                                    \n",
    "                                    //auto a = motherclass::operator[](index[0]);\n",
    "\n",
    "                                    //return motherclass::operator[](index[0])[new_index];\n",
    "                                    return (motherclass::at(index[0]))[new_index];\n",
    "                                \n",
    "                                }else {\n",
    "                                    //std :: cout << \"ciao2\" << index[0] << std :: endl;\n",
    "                                    return motherclass::at(index[0]);\n",
    "                                }\n",
    "                                \n",
    "                            }\n",
    "                            \n",
    "                        \n",
    "                //***************************************************************\n",
    "                \n",
    "                    public :\n",
    "                        thisclass transpose (const t_dim left = 0, const t_dim right = 1 ) const {\n",
    "                        \n",
    "                            if(left==right){return *this;}\n",
    "                        \n",
    "                            //std :: cout << \"transpose\" << std :: endl ;\n",
    "                            \n",
    "                            auto e = this->end();\n",
    "                            auto _e = this->last();\n",
    "                            for(auto i=0;i<Dimension;++i){\n",
    "                                _e[i]++;\n",
    "                            }\n",
    "                            std :: array < t_dim , Dimension > Lenght = _e;                            \n",
    "                            Lenght[left] = _e[right];\n",
    "                            Lenght[right]= _e[left];                            \n",
    "                        \n",
    "                            thisclass out (Lenght);           \n",
    "                            \n",
    "                            //std :: cout << \"out\" << std :: endl ;\n",
    "                            t_dim appo =0;\n",
    "                            \n",
    "                            auto b = this->begin();                            \n",
    "                            auto j = b; //solo per avere il tipo giusto                            \n",
    "                            //int k = 0 ;\n",
    "                            \n",
    "                            //std :: cout << \"cycle\" << std :: endl ;\n",
    "                            \n",
    "                            for(auto i=b;i!=e;i=this->next(i)){\n",
    "                            \n",
    "                                //std :: cout << k ++  << std :: endl ;\n",
    "                                \n",
    "                                //for(auto kk=0;kk<Dimension;++kk){\n",
    "                                //    std::cout << i[kk] << \",\";\n",
    "                                //}\n",
    "                                //std :: cout << std :: endl;\n",
    "                            \n",
    "                                j=i;\n",
    "                                j[left]=i[right];\n",
    "                                j[right]=i[left];\n",
    "                                //std::swap(j[left],i[right]);                                \n",
    "                                out[j]=(*this)[i];\n",
    "                            \n",
    "                            }\n",
    "                            \n",
    "                            return out;\n",
    "                        \n",
    "                        }\n",
    "                \n",
    "                //***************************************************************\n",
    "              \n",
    "                    public :\n",
    "                        Index_t begin() const {                            \n",
    "                            Index_t index; \n",
    "                            index.fill(0);\n",
    "                            return index;\n",
    "                        }\n",
    "                        \n",
    "                    public :\n",
    "                        Index_t next(const Index_t now ) const {\n",
    "                        \n",
    "                            auto size=this->size();\n",
    "                            if(now[0]>=size){                                \n",
    "                                return this->end();//now\n",
    "                            }\n",
    "                            \n",
    "                            std :: array < t_dim , Dimension -1 > sub_index;\n",
    "                            for(auto i=0;i<Dimension-1;++i){\n",
    "                                sub_index[i]=now[i+1];\n",
    "                            }\n",
    "                            \n",
    "                            auto A = (*this)[now[0]];\n",
    "                            auto a = A.next(sub_index);\n",
    "                            //auto a = motherclass::operator[](now[0]).next(sub_index);\n",
    "                            \n",
    "                            \n",
    "                            if (a==sub_index){                                \n",
    "                                if(now[0]==size-1){\n",
    "                                    return this->end();//now\n",
    "                                }else{\n",
    "                                    Index_t index;\n",
    "                                    index.fill(0);\n",
    "                                    index[0]=now[0]+1;\n",
    "                                    return index;\n",
    "                                }                                \n",
    "                            } else {\n",
    "                                Index_t index;\n",
    "                                std::copy(a.begin(),a.end(),std::next(index.begin()));\n",
    "                                index[0]=now[0];\n",
    "                                return index;\n",
    "                            }\n",
    "                        \n",
    "                        }\n",
    "                        \n",
    "                    public :\n",
    "                        Index_t last() const {\n",
    "                        \n",
    "                            Index_t now ;\n",
    "                            Index_t last ;\n",
    "                            Index_t index =this->begin(); \n",
    "                            do{\n",
    "                                last=now;\n",
    "                                now=index;\n",
    "                                index = this->next(now);  \n",
    "                            }while(index!=now);     \n",
    "                            \n",
    "                            return last;\n",
    "                        }\n",
    "                        \n",
    "                        Index_t end() const {                        \n",
    "                            Index_t index;\n",
    "                            index.fill(-1);                 \n",
    "                            return index;\n",
    "                        }\n",
    "                            \n",
    "                          #undef motherclass \n",
    "                          #undef childclass\n",
    "                          #undef thisclass\n",
    "                        \n",
    "\n",
    "                };\n",
    "\n",
    "            // class specialization \n",
    "            template < class type , template <class...> class STL_container > \n",
    "                class dynamic_vector < 1 , type , STL_container > \n",
    "                    : public  my_dynamic_vector < type , STL_container > {\n",
    "\n",
    "                    #define motherclass my_dynamic_vector<type,STL_container>\n",
    "                    \n",
    "                    public :\n",
    "                        typedef std :: array < t_dim ,1> Index_t;\n",
    "                      \n",
    "                    public :             \n",
    "                        dynamic_vector ( std :: array < t_dim , 1 > Lenght = { 0 } ) \n",
    "                            : my_dynamic_vector < type , STL_container > ( Lenght ) {}\n",
    "                            \n",
    "                    public :\n",
    "                        Index_t begin() const {\n",
    "                            Index_t index ;\n",
    "                            index[0]=0;\n",
    "                            return index;\n",
    "                        }\n",
    "                    \n",
    "                    public :\n",
    "                        Index_t last() const {\n",
    "                            Index_t index ;\n",
    "                            index[0]=this->size();\n",
    "                            return index;\n",
    "                        }\n",
    "                        \n",
    "                    public :\n",
    "                        Index_t end() const {\n",
    "                            Index_t index ;\n",
    "                            index[0]=-1;\n",
    "                            return index;\n",
    "                        }\n",
    "                            \n",
    "                    public :\n",
    "                        Index_t next(const Index_t now ) const {\n",
    "\n",
    "                            auto size = this->size();\n",
    "                            Index_t index ;\n",
    "                            if (now[0]>=size){ //out of range\n",
    "                                index[0]=-1;\n",
    "                            }else if(now[0]==size-1){ // the last one\n",
    "                                index[0]=size-1;\n",
    "                            }else{\n",
    "                                index[0]=now[0]+1; //return the next\n",
    "                            }\n",
    "\n",
    "                            return index;\n",
    "\n",
    "                        }\n",
    "                            \n",
    "                    \n",
    "                    public :\n",
    "                        type & operator[](const t_dim index ){\n",
    "                            //std :: cout << \"type & operator[](const t_dim index ) \" << index << std :: endl;   \n",
    "                            //return motherclass::operator[](index);\n",
    "                            return motherclass::at(index);\n",
    "                        }\n",
    "                        \n",
    "                    public :\n",
    "                        type operator[](const t_dim index ) const {\n",
    "                            //std :: cout << \"type operator[](const t_dim index ) const \" << index << std :: endl;   \n",
    "                            //return motherclass::operator[](index);\n",
    "                            return motherclass::at(index);\n",
    "                        }\n",
    "                        \n",
    "                    public :\n",
    "                        type & operator[](const Index_t index ){\n",
    "                            //std :: cout << \"type & operator[](const std :: array < t_dim,1> index ) \" \n",
    "                            //<< index[0] << std :: endl;   \n",
    "                            //return motherclass::operator[](index[0]);\n",
    "                            return motherclass::at(index[0]);\n",
    "                        }\n",
    "                        \n",
    "                    public :\n",
    "                        type operator[](const Index_t index ) const {\n",
    "                            //std :: cout << \"type operator[](const std :: array < t_dim,1> index ) const \" \n",
    "                            //<< index[0] <<std :: endl;  \n",
    "                            //return motherclass::operator[](index[0]);\n",
    "                            return motherclass::at(index[0]);\n",
    "                        }\n",
    "                        \n",
    "                    /*public : \n",
    "                            bool set ( const std :: array<t_dim,1> index , const type value ){\n",
    "                                (*this)[index]=value;\n",
    "                                return true;\n",
    "                            }*/\n",
    "                        \n",
    "                    #undef motherclass  \n",
    "\n",
    "                };  \n",
    "        \n",
    "        }\n",
    "                \n",
    "    }           \n",
    "}\n",
    "            \n",
    " "
   ]
  },
  {
   "cell_type": "code",
   "execution_count": 2,
   "metadata": {},
   "outputs": [],
   "source": [
    "#include <iostream>\n",
    "#include \"dynamic_vector.h\"\n",
    "using namespace eliastocco :: container :: dynamic ;"
   ]
  },
  {
   "cell_type": "code",
   "execution_count": 3,
   "metadata": {},
   "outputs": [],
   "source": [
    "std :: array<double,5> p = {2}"
   ]
  },
  {
   "cell_type": "code",
   "execution_count": 4,
   "metadata": {},
   "outputs": [],
   "source": [
    "dynamic_vector < 2 , double > matrix = {{ 2 , 3 }};"
   ]
  },
  {
   "cell_type": "code",
   "execution_count": 5,
   "metadata": {},
   "outputs": [],
   "source": [
    "dynamic_vector < 1 , double > matrix1 = {{ 2 }};"
   ]
  },
  {
   "cell_type": "code",
   "execution_count": 6,
   "metadata": {},
   "outputs": [],
   "source": [
    "dynamic_vector < 1 , std::array<double,1> > prova = {{ 2 }};"
   ]
  },
  {
   "cell_type": "code",
   "execution_count": 7,
   "metadata": {},
   "outputs": [],
   "source": [
    "std::array<long unsigned int,1> i = {0}"
   ]
  },
  {
   "cell_type": "code",
   "execution_count": 8,
   "metadata": {},
   "outputs": [],
   "source": [
    "std::array<double,1> a = {0}"
   ]
  },
  {
   "cell_type": "code",
   "execution_count": 9,
   "metadata": {},
   "outputs": [
    {
     "data": {
      "text/plain": [
       "@0x7fffdd191080"
      ]
     },
     "execution_count": 9,
     "metadata": {},
     "output_type": "execute_result"
    }
   ],
   "source": [
    "prova[0]=prova[0]"
   ]
  },
  {
   "cell_type": "code",
   "execution_count": 10,
   "metadata": {},
   "outputs": [],
   "source": [
    "matrix1[0]=2;\n",
    "matrix1[1]=3;"
   ]
  },
  {
   "cell_type": "code",
   "execution_count": 11,
   "metadata": {},
   "outputs": [],
   "source": [
    "dynamic_vector < 2 , double > matrix2 = {{ 3 , 3 }};"
   ]
  },
  {
   "cell_type": "code",
   "execution_count": 12,
   "metadata": {},
   "outputs": [],
   "source": [
    "std::array<long int,2> i2 = {0,0}"
   ]
  },
  {
   "cell_type": "code",
   "execution_count": 13,
   "metadata": {},
   "outputs": [],
   "source": [
    "i2[0]=1;\n",
    "i2[1]=0;"
   ]
  },
  {
   "cell_type": "code",
   "execution_count": 14,
   "metadata": {},
   "outputs": [
    {
     "data": {
      "text/plain": [
       "0.0000000"
      ]
     },
     "execution_count": 14,
     "metadata": {},
     "output_type": "execute_result"
    }
   ],
   "source": [
    "matrix2[0][0]"
   ]
  },
  {
   "cell_type": "code",
   "execution_count": 15,
   "metadata": {},
   "outputs": [
    {
     "data": {
      "text/plain": [
       "\"d\""
      ]
     },
     "execution_count": 15,
     "metadata": {},
     "output_type": "execute_result"
    }
   ],
   "source": [
    "typeid(matrix2[1][2]).name()"
   ]
  },
  {
   "cell_type": "code",
   "execution_count": 16,
   "metadata": {},
   "outputs": [],
   "source": [
    "auto b = matrix2.begin()"
   ]
  },
  {
   "cell_type": "code",
   "execution_count": 17,
   "metadata": {},
   "outputs": [
    {
     "data": {
      "text/plain": [
       "\"St5arrayIiLm2EE\""
      ]
     },
     "execution_count": 17,
     "metadata": {},
     "output_type": "execute_result"
    }
   ],
   "source": [
    "typeid(b).name()"
   ]
  },
  {
   "cell_type": "code",
   "execution_count": 18,
   "metadata": {},
   "outputs": [
    {
     "data": {
      "text/plain": [
       "\"St5arrayIlLm2EE\""
      ]
     },
     "execution_count": 18,
     "metadata": {},
     "output_type": "execute_result"
    }
   ],
   "source": [
    "typeid(i2).name()"
   ]
  },
  {
   "cell_type": "code",
   "execution_count": 19,
   "metadata": {},
   "outputs": [
    {
     "data": {
      "text/plain": [
       "0.0000000"
      ]
     },
     "execution_count": 19,
     "metadata": {},
     "output_type": "execute_result"
    }
   ],
   "source": [
    "matrix2[b]"
   ]
  },
  {
   "cell_type": "code",
   "execution_count": 20,
   "metadata": {},
   "outputs": [
    {
     "data": {
      "text/plain": [
       "@0x7fffbff2e2f0"
      ]
     },
     "execution_count": 20,
     "metadata": {},
     "output_type": "execute_result"
    }
   ],
   "source": [
    "matrix2.next(b)"
   ]
  },
  {
   "cell_type": "code",
   "execution_count": 21,
   "metadata": {},
   "outputs": [],
   "source": [
    "auto l = matrix2.last()"
   ]
  },
  {
   "cell_type": "code",
   "execution_count": 24,
   "metadata": {},
   "outputs": [
    {
     "data": {
      "text/plain": [
       "2"
      ]
     },
     "execution_count": 24,
     "metadata": {},
     "output_type": "execute_result"
    }
   ],
   "source": [
    "l[1]"
   ]
  },
  {
   "cell_type": "code",
   "execution_count": 25,
   "metadata": {},
   "outputs": [],
   "source": [
    "auto e = matrix2.end()"
   ]
  },
  {
   "cell_type": "code",
   "execution_count": 28,
   "metadata": {},
   "outputs": [
    {
     "data": {
      "text/plain": [
       "-1"
      ]
     },
     "execution_count": 28,
     "metadata": {},
     "output_type": "execute_result"
    }
   ],
   "source": [
    "e[1]"
   ]
  },
  {
   "cell_type": "code",
   "execution_count": 29,
   "metadata": {},
   "outputs": [],
   "source": [
    "int k = 0 ;"
   ]
  },
  {
   "cell_type": "code",
   "execution_count": 30,
   "metadata": {},
   "outputs": [
    {
     "name": "stdout",
     "output_type": "stream",
     "text": [
      "0,0 : 0 , \n",
      "0,1 : 0 , \n",
      "0,2 : 0 , \n",
      "1,0 : 0 , \n",
      "1,1 : 0 , \n",
      "1,2 : 0 , \n",
      "2,0 : 0 , \n",
      "2,1 : 0 , \n",
      "2,2 : 0 , \n"
     ]
    }
   ],
   "source": [
    "for(auto i=b;i!=e;i=matrix2.next(i)){\n",
    "    std :: cout << i[0] << \",\" << i[1] << \" : \";\n",
    "    //matrix2[i]=k++;\n",
    "    std :: cout << matrix2[i] << \" , \" << std :: endl;\n",
    "    //std :: cout << t[i] << std :: endl;\n",
    "}"
   ]
  },
  {
   "cell_type": "code",
   "execution_count": 31,
   "metadata": {},
   "outputs": [
    {
     "name": "stdout",
     "output_type": "stream",
     "text": [
      "0\n",
      "1\n",
      "2\n",
      "3\n",
      "4\n",
      "5\n",
      "6\n",
      "7\n",
      "8\n"
     ]
    }
   ],
   "source": [
    "auto t = matrix2.transpose()"
   ]
  },
  {
   "cell_type": "code",
   "execution_count": 33,
   "metadata": {},
   "outputs": [
    {
     "name": "stderr",
     "output_type": "stream",
     "text": [
      "\u001b[1minput_line_54:6:31: \u001b[0m\u001b[0;1;31merror: \u001b[0m\u001b[1mno viable overloaded operator[] for type 'dynamic_vector<2, double>'\u001b[0m\n",
      "        std :: cout << matrix2[i2][0] << \" | \" << matrix2[i2][1] << std :: endl;\n",
      "\u001b[0;1;32m                       ~~~~~~~^~~\n",
      "\u001b[0m\u001b[1mheader/dynamic_vector.h:77:42: \u001b[0m\u001b[0;1;30mnote: \u001b[0mcandidate function not viable: no known conversion from 'std::array<long, 2>' to 'const\n",
      "      eliastocco::container::dynamic::t_dim' (aka 'const int') for 1st argument\u001b[0m\n",
      "                            childclass & operator[](const t_dim index ){\n",
      "\u001b[0;1;32m                                         ^\n",
      "\u001b[0m\u001b[1mheader/dynamic_vector.h:83:40: \u001b[0m\u001b[0;1;30mnote: \u001b[0mcandidate function not viable: no known conversion from 'std::array<long, 2>' to 'const\n",
      "      eliastocco::container::dynamic::t_dim' (aka 'const int') for 1st argument\u001b[0m\n",
      "                            childclass operator[](const t_dim index ) const {\n",
      "\u001b[0;1;32m                                       ^\n",
      "\u001b[0m\u001b[1mheader/dynamic_vector.h:93:36: \u001b[0m\u001b[0;1;30mnote: \u001b[0mcandidate template ignored: could not match 'int' against 'long'\u001b[0m\n",
      "                            auto & operator[](const std :: array<t_dim,Dim> index ) {\n",
      "\u001b[0;1;32m                                   ^\n",
      "\u001b[0m\u001b[1mheader/dynamic_vector.h:122:34: \u001b[0m\u001b[0;1;30mnote: \u001b[0mcandidate template ignored: could not match 'int' against 'long'\u001b[0m\n",
      "                            auto operator[](const std :: array<t_dim,Dim> index ) const {\n",
      "\u001b[0;1;32m                                 ^\n",
      "\u001b[0m\u001b[1minput_line_54:6:58: \u001b[0m\u001b[0;1;31merror: \u001b[0m\u001b[1mno viable overloaded operator[] for type 'dynamic_vector<2, double>'\u001b[0m\n",
      "        std :: cout << matrix2[i2][0] << \" | \" << matrix2[i2][1] << std :: endl;\n",
      "\u001b[0;1;32m                                                  ~~~~~~~^~~\n",
      "\u001b[0m\u001b[1mheader/dynamic_vector.h:77:42: \u001b[0m\u001b[0;1;30mnote: \u001b[0mcandidate function not viable: no known conversion from 'std::array<long, 2>' to 'const\n",
      "      eliastocco::container::dynamic::t_dim' (aka 'const int') for 1st argument\u001b[0m\n",
      "                            childclass & operator[](const t_dim index ){\n",
      "\u001b[0;1;32m                                         ^\n",
      "\u001b[0m\u001b[1mheader/dynamic_vector.h:83:40: \u001b[0m\u001b[0;1;30mnote: \u001b[0mcandidate function not viable: no known conversion from 'std::array<long, 2>' to 'const\n",
      "      eliastocco::container::dynamic::t_dim' (aka 'const int') for 1st argument\u001b[0m\n",
      "                            childclass operator[](const t_dim index ) const {\n",
      "\u001b[0;1;32m                                       ^\n",
      "\u001b[0m\u001b[1mheader/dynamic_vector.h:93:36: \u001b[0m\u001b[0;1;30mnote: \u001b[0mcandidate template ignored: could not match 'int' against 'long'\u001b[0m\n",
      "                            auto & operator[](const std :: array<t_dim,Dim> index ) {\n",
      "\u001b[0;1;32m                                   ^\n",
      "\u001b[0m\u001b[1mheader/dynamic_vector.h:122:34: \u001b[0m\u001b[0;1;30mnote: \u001b[0mcandidate template ignored: could not match 'int' against 'long'\u001b[0m\n",
      "                            auto operator[](const std :: array<t_dim,Dim> index ) const {\n",
      "\u001b[0;1;32m                                 ^\n",
      "\u001b[0m"
     ]
    },
    {
     "ename": "Interpreter Error",
     "evalue": "",
     "output_type": "error",
     "traceback": [
      "Interpreter Error: "
     ]
    }
   ],
   "source": [
    "for(auto i =0; i< 2; ++i){\n",
    "    for(auto j =0;j<3;++j){\n",
    "        i2[0]=i;\n",
    "        i2[1]=j;\n",
    "        std :: cout << matrix2[i2][0] << \" | \" << matrix2[i2][1] << std :: endl;\n",
    "    }\n",
    "}"
   ]
  },
  {
   "cell_type": "code",
   "execution_count": 13,
   "metadata": {},
   "outputs": [
    {
     "data": {
      "text/plain": [
       "4.0000000"
      ]
     },
     "execution_count": 13,
     "metadata": {},
     "output_type": "execute_result"
    }
   ],
   "source": [
    "matrix2[i2]=4;\n",
    "matrix2[i2]"
   ]
  },
  {
   "cell_type": "code",
   "execution_count": 14,
   "metadata": {},
   "outputs": [
    {
     "data": {
      "text/plain": [
       "{ 2.0000000, 0.0000000 }"
      ]
     },
     "execution_count": 14,
     "metadata": {},
     "output_type": "execute_result"
    }
   ],
   "source": [
    "matrix2[1]=matrix1;\n",
    "matrix2[1]"
   ]
  },
  {
   "cell_type": "code",
   "execution_count": 15,
   "metadata": {},
   "outputs": [
    {
     "data": {
      "text/plain": [
       "{ 2.0000000, 0.0000000 }"
      ]
     },
     "execution_count": 15,
     "metadata": {},
     "output_type": "execute_result"
    }
   ],
   "source": [
    "matrix2[i]=matrix1"
   ]
  },
  {
   "cell_type": "code",
   "execution_count": 16,
   "metadata": {},
   "outputs": [
    {
     "data": {
      "text/plain": [
       "3.0000000"
      ]
     },
     "execution_count": 16,
     "metadata": {},
     "output_type": "execute_result"
    }
   ],
   "source": [
    "matrix2[0][1]=3.0;\n",
    "matrix2[0][1]"
   ]
  },
  {
   "cell_type": "code",
   "execution_count": 17,
   "metadata": {},
   "outputs": [],
   "source": [
    "std::array<long unsigned int,3> init = { 2 , 3 , 4 }"
   ]
  },
  {
   "cell_type": "code",
   "execution_count": 18,
   "metadata": {},
   "outputs": [],
   "source": [
    "dynamic_vector < 3 , double > matrix3 (init);//= {{ 2 , 3 , 4 }};"
   ]
  },
  {
   "cell_type": "code",
   "execution_count": 19,
   "metadata": {},
   "outputs": [],
   "source": [
    "std::array<long unsigned int,3> i3 = {0,0,0}"
   ]
  },
  {
   "cell_type": "code",
   "execution_count": 20,
   "metadata": {},
   "outputs": [
    {
     "data": {
      "text/plain": [
       "0.0000000"
      ]
     },
     "execution_count": 20,
     "metadata": {},
     "output_type": "execute_result"
    }
   ],
   "source": [
    "matrix3[0][2][0]"
   ]
  },
  {
   "cell_type": "code",
   "execution_count": 21,
   "metadata": {},
   "outputs": [
    {
     "data": {
      "text/plain": [
       "{ 2.0000000, 0.0000000 }"
      ]
     },
     "execution_count": 21,
     "metadata": {},
     "output_type": "execute_result"
    }
   ],
   "source": [
    "matrix3[i2]=matrix1"
   ]
  },
  {
   "cell_type": "code",
   "execution_count": 22,
   "metadata": {},
   "outputs": [
    {
     "data": {
      "text/plain": [
       "2.0000000"
      ]
     },
     "execution_count": 22,
     "metadata": {},
     "output_type": "execute_result"
    }
   ],
   "source": [
    "matrix3[i3]"
   ]
  },
  {
   "cell_type": "code",
   "execution_count": 23,
   "metadata": {},
   "outputs": [],
   "source": [
    "dynamic_vector < 2 , unsigned int > C ( { 6 , 6 } );"
   ]
  },
  {
   "cell_type": "code",
   "execution_count": 24,
   "metadata": {},
   "outputs": [],
   "source": [
    "int N = 5"
   ]
  },
  {
   "cell_type": "code",
   "execution_count": 30,
   "metadata": {},
   "outputs": [],
   "source": [
    "\n",
    "\n",
    "                        //std :: cout << \"coefficienti binomiali\" << std :: endl ; \n",
    "                        C[0][0] = 1;\n",
    "                        for ( int n = 1; n <= N; ++n) {\n",
    "                            C[n][0] = C[n][n] = 1;\n",
    "                            for ( int k = 1; k < n; ++k){\n",
    "                                C[n][k] = C[n - 1][k - 1] + C[n - 1][k];\n",
    "                            }\n",
    "                        }  "
   ]
  },
  {
   "cell_type": "code",
   "execution_count": 6,
   "metadata": {},
   "outputs": [],
   "source": [
    "dynamic_vector < 2 , double , std :: vector > matrix2 = {{ 2 , 3 }}"
   ]
  },
  {
   "cell_type": "code",
   "execution_count": null,
   "metadata": {},
   "outputs": [
    {
     "name": "stderr",
     "output_type": "stream",
     "text": [
      "In file included from input_line_5:1:\n",
      "In file included from /home/eliastocco/anaconda3/envs/xeus-cling/include/xeus/xinterpreter.hpp:13:\n",
      "In file included from /home/eliastocco/anaconda3/envs/xeus-cling/bin/../lib/gcc/x86_64-conda_cos6-linux-gnu/7.3.0/../../../../x86_64-conda_cos6-linux-gnu/include/c++/7.3.0/functional:54:\n",
      "In file included from /home/eliastocco/anaconda3/envs/xeus-cling/bin/../lib/gcc/x86_64-conda_cos6-linux-gnu/7.3.0/../../../../x86_64-conda_cos6-linux-gnu/include/c++/7.3.0/tuple:39:\n",
      "In file included from /home/eliastocco/anaconda3/envs/xeus-cling/bin/../lib/gcc/x86_64-conda_cos6-linux-gnu/7.3.0/../../../../x86_64-conda_cos6-linux-gnu/include/c++/7.3.0/array:39:\n",
      "In file included from /home/eliastocco/anaconda3/envs/xeus-cling/bin/../lib/gcc/x86_64-conda_cos6-linux-gnu/7.3.0/../../../../x86_64-conda_cos6-linux-gnu/include/c++/7.3.0/stdexcept:39:\n",
      "In file included from /home/eliastocco/anaconda3/envs/xeus-cling/bin/../lib/gcc/x86_64-conda_cos6-linux-gnu/7.3.0/../../../../x86_64-conda_cos6-linux-gnu/include/c++/7.3.0/string:40:\n",
      "In file included from /home/eliastocco/anaconda3/envs/xeus-cling/bin/../lib/gcc/x86_64-conda_cos6-linux-gnu/7.3.0/../../../../x86_64-conda_cos6-linux-gnu/include/c++/7.3.0/bits/char_traits.h:39:\n",
      "In file included from /home/eliastocco/anaconda3/envs/xeus-cling/bin/../lib/gcc/x86_64-conda_cos6-linux-gnu/7.3.0/../../../../x86_64-conda_cos6-linux-gnu/include/c++/7.3.0/bits/stl_algobase.h:67:\n",
      "In file included from /home/eliastocco/anaconda3/envs/xeus-cling/bin/../lib/gcc/x86_64-conda_cos6-linux-gnu/7.3.0/../../../../x86_64-conda_cos6-linux-gnu/include/c++/7.3.0/bits/stl_iterator.h:66:\n",
      "\u001b[1m/home/eliastocco/anaconda3/envs/xeus-cling/bin/../lib/gcc/x86_64-conda_cos6-linux-gnu/7.3.0/../../../../x86_64-conda_cos6-linux-gnu/include/c++/7.3.0/bits/ptr_traits.h:71:44: \u001b[0m\u001b[0;1;31merror: \u001b[0m\u001b[1mno member named 'value' in 'std::is_void<eliastocco::container::dynamic::dynamic_vector<1, double, deque> >'\u001b[0m\n",
      "      = typename conditional<is_void<_Tp>::value, __undefined, _Tp>::type;\n",
      "\u001b[0;1;32m                             ~~~~~~~~~~~~~~^\n",
      "\u001b[0m\u001b[1m/home/eliastocco/anaconda3/envs/xeus-cling/bin/../lib/gcc/x86_64-conda_cos6-linux-gnu/7.3.0/../../../../x86_64-conda_cos6-linux-gnu/include/c++/7.3.0/bits/ptr_traits.h:141:18: \u001b[0m\u001b[0;1;30mnote: \u001b[0min instantiation of template type alias '__make_not_void' requested here\u001b[0m\n",
      "      pointer_to(__make_not_void<element_type>& __r) noexcept\n",
      "\u001b[0;1;32m                 ^\n",
      "\u001b[0m\u001b[1m/home/eliastocco/anaconda3/envs/xeus-cling/bin/../lib/gcc/x86_64-conda_cos6-linux-gnu/7.3.0/../../../../x86_64-conda_cos6-linux-gnu/include/c++/7.3.0/bits/stl_deque.h:118:28: \u001b[0m\u001b[0;1;30mnote: \u001b[0min instantiation of template class 'std::pointer_traits<eliastocco::container::dynamic::dynamic_vector<1, double, deque>\n",
      "      *>' requested here\u001b[0m\n",
      "        using __ptr_to = typename pointer_traits<_Ptr>::template rebind<_Up>;\n",
      "\u001b[0;1;32m                                  ^\n",
      "\u001b[0m\u001b[1m/home/eliastocco/anaconda3/envs/xeus-cling/bin/../lib/gcc/x86_64-conda_cos6-linux-gnu/7.3.0/../../../../x86_64-conda_cos6-linux-gnu/include/c++/7.3.0/bits/stl_deque.h:544:24: \u001b[0m\u001b[0;1;30mnote: \u001b[0min instantiation of template class 'std::_Deque_iterator<eliastocco::container::dynamic::dynamic_vector<1, double,\n",
      "      deque>, eliastocco::container::dynamic::dynamic_vector<1, double, deque> &,\n",
      "      eliastocco::container::dynamic::dynamic_vector<1, double, deque> *>' requested here\u001b[0m\n",
      "      typedef typename iterator::_Map_pointer _Map_pointer;\n",
      "\u001b[0;1;32m                       ^\n",
      "\u001b[0m\u001b[1m/home/eliastocco/anaconda3/envs/xeus-cling/bin/../lib/gcc/x86_64-conda_cos6-linux-gnu/7.3.0/../../../../x86_64-conda_cos6-linux-gnu/include/c++/7.3.0/bits/stl_deque.h:831:29: \u001b[0m\u001b[0;1;30mnote: \u001b[0min instantiation of template class 'std::_Deque_base<eliastocco::container::dynamic::dynamic_vector<1, double, deque>,\n",
      "      std::allocator<eliastocco::container::dynamic::dynamic_vector<1, double, deque> > >' requested here\u001b[0m\n",
      "    class deque : protected _Deque_base<_Tp, _Alloc>\n",
      "\u001b[0;1;32m                            ^\n",
      "\u001b[0m\u001b[1mheader/dynamic_vector.h:18:50: \u001b[0m\u001b[0;1;30mnote: \u001b[0min instantiation of template class 'std::deque<eliastocco::container::dynamic::dynamic_vector<1, double, deque>,\n",
      "      std::allocator<eliastocco::container::dynamic::dynamic_vector<1, double, deque> > >' requested here\u001b[0m\n",
      "                class my_dynamic_vector : public STL_container < type > {\n",
      "\u001b[0;1;32m                                                 ^\n",
      "\u001b[0m\u001b[1mheader/dynamic_vector.h:30:34: \u001b[0m\u001b[0;1;30mnote: \u001b[0min instantiation of template class\n",
      "      'eliastocco::container::dynamic::my_dynamic_vector<eliastocco::container::dynamic::dynamic_vector<1, double,\n",
      "      deque>, deque>' requested here\u001b[0m\n",
      "                        : public my_dynamic_vector \n",
      "\u001b[0;1;32m                                 ^\n",
      "\u001b[0m\u001b[1minput_line_12:2:47: \u001b[0m\u001b[0;1;30mnote: \u001b[0min instantiation of template class 'eliastocco::container::dynamic::dynamic_vector<2, double, std::deque>' requested\n",
      "      "
     ]
    }
   ],
   "source": [
    "dynamic_vector < 2 , double , std :: deque > matrix3 = {{ 2 , 3 }};\n",
    "std :: cout << matrix3.size() << std :: endl ;\n",
    "std :: cout << matrix3[0].size() << std :: endl;"
   ]
  },
  {
   "cell_type": "code",
   "execution_count": 8,
   "metadata": {},
   "outputs": [
    {
     "name": "stdout",
     "output_type": "stream",
     "text": [
      "N10eliastocco9container7dynamic14dynamic_vectorILm2EdSt6vectorEE\n",
      "N10eliastocco9container7dynamic14dynamic_vectorILm2EdSt6vectorEE\n",
      "N10eliastocco9container7dynamic14dynamic_vectorILm2EdSt5dequeEE\n"
     ]
    }
   ],
   "source": [
    "std :: cout << typeid(matrix).name() << std :: endl ; \n",
    "std :: cout << typeid(matrix2).name() << std :: endl ; \n",
    "std :: cout << typeid(matrix3).name() << std :: endl ; "
   ]
  },
  {
   "cell_type": "code",
   "execution_count": 9,
   "metadata": {},
   "outputs": [],
   "source": [
    "dynamic_vector < 4 , double > matrix4 = {{ 2 , 3 , 4 , 5 }};"
   ]
  },
  {
   "cell_type": "code",
   "execution_count": 10,
   "metadata": {},
   "outputs": [
    {
     "data": {
      "text/plain": [
       "{ { { 0.0000000, 0.0000000, 0.0000000, 0.0000000, 0.0000000 }, { 0.0000000, 0.0000000, 0.0000000, 0.0000000, 0.0000000 }, { 0.0000000, 0.0000000, 0.0000000, 0.0000000, 0.0000000 }, { 0.0000000, 0.0000000, 0.0000000, 0.0000000, 0.0000000 } }, { { 0.0000000, 0.0000000, 0.0000000, 0.0000000, 0.0000000 }, { 0.0000000, 0.0000000, 0.0000000, 0.0000000, 0.0000000 }, { 0.0000000, 0.0000000, 0.0000000, 0.0000000, 0.0000000 }, { 0.0000000, 0.0000000, 0.0000000, 0.0000000, 0.0000000 } }, { { 0.0000000, 0.0000000, 0.0000000, 0.0000000, 0.0000000 }, { 0.0000000, 0.0000000, 0.0000000, 0.0000000, 0.0000000 }, { 0.0000000, 0.0000000, 0.0000000, 0.0000000, 0.0000000 }, { 0.0000000, 0.0000000, 0.0000000, 0.0000000, 0.0000000 } } }"
      ]
     },
     "execution_count": 10,
     "metadata": {},
     "output_type": "execute_result"
    }
   ],
   "source": [
    "matrix4[0]"
   ]
  },
  {
   "cell_type": "code",
   "execution_count": 11,
   "metadata": {},
   "outputs": [],
   "source": [
    "std :: array < long unsigned int , 4 > I = {1,2,3,4}"
   ]
  },
  {
   "cell_type": "code",
   "execution_count": 12,
   "metadata": {},
   "outputs": [
    {
     "name": "stderr",
     "output_type": "stream",
     "text": [
      "In file included from input_line_7:2:\n",
      "\u001b[1mheader/dynamic_vector.h:61:40: \u001b[0m\u001b[0;1;31merror: \u001b[0m\u001b[1mno viable overloaded operator[] for type 'const\n",
      "      __gnu_cxx::__alloc_traits<std::allocator<eliastocco::container::dynamic::dynamic_vector<1, double, vector> >\n",
      "      >::value_type' (aka 'const eliastocco::container::dynamic::dynamic_vector<1, double, vector>')\u001b[0m\n",
      "                                return my_dynamic_vector \n",
      "\u001b[0;1;32m                                       ^~~~~~~~~~~~~~~~~\n",
      "\u001b[0m\u001b[1mheader/dynamic_vector.h:61:40: \u001b[0m\u001b[0;1;30mnote: \u001b[0min instantiation of member function 'eliastocco::container::dynamic::dynamic_vector<2, double, std::vector>::operator[]'\n",
      "      requested here\u001b[0m\n",
      "\u001b[1mheader/dynamic_vector.h:61:40: \u001b[0m\u001b[0;1;30mnote: \u001b[0min instantiation of member function 'eliastocco::container::dynamic::dynamic_vector<3, double, vector>::operator[]'\n",
      "      requested here\u001b[0m\n",
      "\u001b[1minput_line_21:2:9: \u001b[0m\u001b[0;1;30mnote: \u001b[0min instantiation of member function 'eliastocco::container::dynamic::dynamic_vector<4, double, std::vector>::operator[]'\n",
      "      requested here\u001b[0m\n",
      " matrix4[I]\n",
      "\u001b[0;1;32m        ^\n",
      "\u001b[0m\u001b[1mheader/dynamic_vector.h:89:30: \u001b[0m\u001b[0;1;30mnote: \u001b[0mcandidate function not viable: 'this' argument has type 'const\n",
      "      __gnu_cxx::__alloc_traits<std::allocator<eliastocco::container::dynamic::dynamic_vector<1, double, vector> >\n",
      "      >::value_type' (aka 'const eliastocco::container::dynamic::dynamic_vector<1, double, vector>'), but method is not\n",
      "      marked const\u001b[0m\n",
      "                        auto operator[](const unsigned int index ){\n",
      "\u001b[0;1;32m                             ^\n",
      "\u001b[0m"
     ]
    },
    {
     "ename": "Interpreter Error",
     "evalue": "",
     "output_type": "error",
     "traceback": [
      "Interpreter Error: "
     ]
    }
   ],
   "source": [
    "matrix4[I]"
   ]
  },
  {
   "cell_type": "code",
   "execution_count": 12,
   "metadata": {},
   "outputs": [],
   "source": [
    "dynamic_vector < 2 , std :: valarray<double> > Matrix = {{ 2 , 3 }};"
   ]
  },
  {
   "cell_type": "code",
   "execution_count": 15,
   "metadata": {},
   "outputs": [
    {
     "data": {
      "text/plain": [
       "0"
      ]
     },
     "execution_count": 15,
     "metadata": {},
     "output_type": "execute_result"
    }
   ],
   "source": [
    "Matrix[0][1].size()"
   ]
  }
 ],
 "metadata": {
  "kernelspec": {
   "display_name": "C++17",
   "language": "C++17",
   "name": "xcpp17"
  },
  "language_info": {
   "codemirror_mode": "text/x-c++src",
   "file_extension": ".cpp",
   "mimetype": "text/x-c++src",
   "name": "c++",
   "version": "17"
  },
  "latex_envs": {
   "LaTeX_envs_menu_present": true,
   "autoclose": true,
   "autocomplete": true,
   "bibliofile": "biblio.bib",
   "cite_by": "apalike",
   "current_citInitial": 1,
   "eqLabelWithNumbers": true,
   "eqNumInitial": 1,
   "hotkeys": {
    "equation": "Ctrl-E",
    "itemize": "Ctrl-I"
   },
   "labels_anchors": false,
   "latex_user_defs": false,
   "report_style_numbering": false,
   "user_envs_cfg": false
  },
  "toc": {
   "base_numbering": 1,
   "nav_menu": {},
   "number_sections": true,
   "sideBar": true,
   "skip_h1_title": false,
   "title_cell": "Table of Contents",
   "title_sidebar": "Contents",
   "toc_cell": false,
   "toc_position": {},
   "toc_section_display": true,
   "toc_window_display": false
  }
 },
 "nbformat": 4,
 "nbformat_minor": 4
}
